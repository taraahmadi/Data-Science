{
 "cells": [
  {
   "cell_type": "markdown",
   "metadata": {},
   "source": [
    "## Control Flows, Loops, & Functions:\n",
    "\n",
    "Exersice 1. Write a function which reverses the order of a string."
   ]
  },
  {
   "cell_type": "code",
   "execution_count": 1,
   "metadata": {},
   "outputs": [
    {
     "data": {
      "text/plain": [
       "'araT'"
      ]
     },
     "execution_count": 1,
     "metadata": {},
     "output_type": "execute_result"
    }
   ],
   "source": [
    "# Solution1 : using return x[::-1]\n",
    "def reverse_string(s):\n",
    "    return s[::-1]\n",
    "\n",
    "reverse_string('Tara')"
   ]
  },
  {
   "cell_type": "code",
   "execution_count": 2,
   "metadata": {},
   "outputs": [
    {
     "data": {
      "text/plain": [
       "'araT'"
      ]
     },
     "execution_count": 2,
     "metadata": {},
     "output_type": "execute_result"
    }
   ],
   "source": [
    "# Solution 2 : using iterations\n",
    "def reverse_str(s):\n",
    "    z = ''\n",
    "    for i in range(len(s)):\n",
    "        z += s[-i-1]\n",
    "    return(z)\n",
    "\n",
    "reverse_str('Tara')"
   ]
  },
  {
   "cell_type": "markdown",
   "metadata": {},
   "source": [
    "Exercise 2. Write a function which takes in a positive integer, and returns the sum of all of the individual digits. "
   ]
  },
  {
   "cell_type": "code",
   "execution_count": 3,
   "metadata": {},
   "outputs": [
    {
     "data": {
      "text/plain": [
       "15"
      ]
     },
     "execution_count": 3,
     "metadata": {},
     "output_type": "execute_result"
    }
   ],
   "source": [
    "def digitsum(n):\n",
    "    total = 0\n",
    "    for i in range(len(str(n))): \n",
    "        total = total + (int(str(n)[i])) \n",
    "    return total\n",
    "\n",
    "digitsum(456) "
   ]
  },
  {
   "cell_type": "markdown",
   "metadata": {},
   "source": [
    "Exercise 3. Write a function which takes in a string or a number, and determines if the argument remains the same if we reverse the order of the characters."
   ]
  },
  {
   "cell_type": "code",
   "execution_count": 4,
   "metadata": {},
   "outputs": [
    {
     "name": "stdout",
     "output_type": "stream",
     "text": [
      "111 It's a palindrome\n"
     ]
    }
   ],
   "source": [
    "def palindrome(x):\n",
    "    x = str(x)\n",
    "    if (x[::]) == (x[::-1]):\n",
    "        print(x , \"It's a palindrome\")\n",
    "    else:\n",
    "        print(x , \"It's NOT a palindrome\") \n",
    "\n",
    "palindrome(111)"
   ]
  },
  {
   "cell_type": "markdown",
   "metadata": {},
   "source": [
    "Exercise 4. Write a function to determine if a given integer is divisible by 7."
   ]
  },
  {
   "cell_type": "code",
   "execution_count": 5,
   "metadata": {},
   "outputs": [
    {
     "data": {
      "text/plain": [
       "True"
      ]
     },
     "execution_count": 5,
     "metadata": {},
     "output_type": "execute_result"
    }
   ],
   "source": [
    "def DivisibleBy7(x):\n",
    "    if x % 7 == 0:\n",
    "        return True\n",
    "    else:\n",
    "        return False\n",
    "\n",
    "DivisibleBy7(14)"
   ]
  },
  {
   "cell_type": "markdown",
   "metadata": {},
   "source": [
    "Exercise 5. Write a function to find the sum of all the multiples of 3 or 5 below any given number (n)."
   ]
  },
  {
   "cell_type": "code",
   "execution_count": 6,
   "metadata": {},
   "outputs": [
    {
     "data": {
      "text/plain": [
       "233168"
      ]
     },
     "execution_count": 6,
     "metadata": {},
     "output_type": "execute_result"
    }
   ],
   "source": [
    "def SumofMultiples(n):\n",
    "    the_sum = 0\n",
    "    for i in range(1,n):\n",
    "        if i % 3 == 0 or i % 5 == 0:\n",
    "            the_sum = the_sum + i\n",
    "    return the_sum\n",
    "            \n",
    "            \n",
    "SumofMultiples(1000) "
   ]
  }
 ],
 "metadata": {
  "kernelspec": {
   "display_name": "Python 3",
   "language": "python",
   "name": "python3"
  },
  "language_info": {
   "codemirror_mode": {
    "name": "ipython",
    "version": 3
   },
   "file_extension": ".py",
   "mimetype": "text/x-python",
   "name": "python",
   "nbconvert_exporter": "python",
   "pygments_lexer": "ipython3",
   "version": "3.6.2"
  }
 },
 "nbformat": 4,
 "nbformat_minor": 2
}
