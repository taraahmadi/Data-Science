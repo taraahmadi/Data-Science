{
 "cells": [
  {
   "cell_type": "markdown",
   "metadata": {},
   "source": [
    "## Data Structures:"
   ]
  },
  {
   "cell_type": "code",
   "execution_count": 16,
   "metadata": {
    "collapsed": true
   },
   "outputs": [],
   "source": [
    "import numpy as np\n",
    "import pandas as pd"
   ]
  },
  {
   "cell_type": "markdown",
   "metadata": {},
   "source": [
    "Exercise 1. Write a function to take in an arbitrary list, and return the original list in reverse order"
   ]
  },
  {
   "cell_type": "code",
   "execution_count": 17,
   "metadata": {
    "collapsed": true
   },
   "outputs": [],
   "source": [
    "# I did this in several ways\n",
    "def ReversedList(l):\n",
    "    reversedl = []\n",
    "    for i in range(len(l)):\n",
    "        reversedl.append(l[-i-1])\n",
    "    return reversedl\n",
    "\n",
    "def make_list_backward1(l):\n",
    "    #takes a list l and returns it backward\n",
    "    backward_list = []\n",
    "    for i in range(1, range(1) + 1):\n",
    "        backwards_list.append(l[-i])\n",
    "    return backwards_list\n",
    "\n",
    "def make_list_backward2(l):\n",
    "    backwards_list = []\n",
    "    for i in l:\n",
    "        backwards_list = [i] + backwards_list\n",
    "    return backwards_list\n",
    " \n",
    "def make_list_backward3(l):\n",
    "    return l[::-1]"
   ]
  },
  {
   "cell_type": "markdown",
   "metadata": {},
   "source": [
    "Exercise 2. Write a script which will give a list of all of the items in the shopping basket which are citrus.\n",
    "\n",
    "`shopping_basket = ['cherry','lemon','celery','grapefruit','apricot'] `.<br>\n",
    "\n",
    "We have the following dictionary of some fruit by type: <br>\n",
    "`f_dict = {'citrus':['lemon','lime','grapefruit','orange','pomelo'],'stone fruit':['cherry','apricot','peach'],'pome':['apple','pear','quince']}`. <br>\n"
   ]
  },
  {
   "cell_type": "code",
   "execution_count": 18,
   "metadata": {},
   "outputs": [
    {
     "data": {
      "text/plain": [
       "['lemon', 'grapefruit']"
      ]
     },
     "execution_count": 18,
     "metadata": {},
     "output_type": "execute_result"
    }
   ],
   "source": [
    "shopping_basket = ['cherry','lemon','celery','grapefruit','apricot', 'apple']\n",
    "\n",
    "f_dict = {'citrus':['lemon','grapefruit','orange'],\n",
    "          'stone fruit':['cherry','apricot','peach'],'pome':['apple','pear','quince']}\n",
    "\n",
    "f_dict['citrus']\n",
    "\n",
    "citrus = []\n",
    "for fruit in shopping_basket:\n",
    "    if fruit in f_dict['citrus']:\n",
    "        citrus.append(fruit)\n",
    "citrus"
   ]
  },
  {
   "cell_type": "markdown",
   "metadata": {},
   "source": [
    "Exercise 3. Consider this dictionary of class marks:<br>\n",
    "`stulist = ['Paul','Lindsay','Ivan','Emily','Iva']\n",
    "marks = {'Assignment 1':pd.Series([72,85,87,94,76],index = ixlist),'Assignment 2':pd.Series([82,89,92,92,84],index = ixlist), 'Assignment 3':pd.Series([81,94,90,99,85],index = ixlist), 'Midterm':pd.Series([86,95,92,97,84],index = ixlist), \n",
    "'Final Exam':pd.Series([84,92,78,91,92],index = ixlist)}`<br>\n",
    "Turn this into a Dataframe, wuth a new column to compute the 'Final Grade' with weighting of marks:  30% for Assignments, 30% for the Midterm, and 40% for the Final Exam."
   ]
  },
  {
   "cell_type": "code",
   "execution_count": 19,
   "metadata": {},
   "outputs": [
    {
     "data": {
      "text/html": [
       "<div>\n",
       "<style>\n",
       "    .dataframe thead tr:only-child th {\n",
       "        text-align: right;\n",
       "    }\n",
       "\n",
       "    .dataframe thead th {\n",
       "        text-align: left;\n",
       "    }\n",
       "\n",
       "    .dataframe tbody tr th {\n",
       "        vertical-align: top;\n",
       "    }\n",
       "</style>\n",
       "<table border=\"1\" class=\"dataframe\">\n",
       "  <thead>\n",
       "    <tr style=\"text-align: right;\">\n",
       "      <th></th>\n",
       "      <th>Assignment 1</th>\n",
       "      <th>Assignment 2</th>\n",
       "      <th>Assignment 3</th>\n",
       "      <th>Final Exam</th>\n",
       "      <th>Midterm</th>\n",
       "      <th>Final Grade</th>\n",
       "    </tr>\n",
       "  </thead>\n",
       "  <tbody>\n",
       "    <tr>\n",
       "      <th>Paul</th>\n",
       "      <td>72</td>\n",
       "      <td>82</td>\n",
       "      <td>81</td>\n",
       "      <td>84</td>\n",
       "      <td>86</td>\n",
       "      <td>82.9</td>\n",
       "    </tr>\n",
       "    <tr>\n",
       "      <th>Lindsay</th>\n",
       "      <td>85</td>\n",
       "      <td>89</td>\n",
       "      <td>94</td>\n",
       "      <td>92</td>\n",
       "      <td>95</td>\n",
       "      <td>92.1</td>\n",
       "    </tr>\n",
       "    <tr>\n",
       "      <th>Ivan</th>\n",
       "      <td>87</td>\n",
       "      <td>92</td>\n",
       "      <td>90</td>\n",
       "      <td>78</td>\n",
       "      <td>92</td>\n",
       "      <td>85.7</td>\n",
       "    </tr>\n",
       "    <tr>\n",
       "      <th>Emily</th>\n",
       "      <td>94</td>\n",
       "      <td>92</td>\n",
       "      <td>99</td>\n",
       "      <td>91</td>\n",
       "      <td>97</td>\n",
       "      <td>94.0</td>\n",
       "    </tr>\n",
       "    <tr>\n",
       "      <th>Eva</th>\n",
       "      <td>76</td>\n",
       "      <td>84</td>\n",
       "      <td>85</td>\n",
       "      <td>92</td>\n",
       "      <td>84</td>\n",
       "      <td>86.5</td>\n",
       "    </tr>\n",
       "  </tbody>\n",
       "</table>\n",
       "</div>"
      ],
      "text/plain": [
       "         Assignment 1  Assignment 2  Assignment 3  Final Exam  Midterm  \\\n",
       "Paul               72            82            81          84       86   \n",
       "Lindsay            85            89            94          92       95   \n",
       "Ivan               87            92            90          78       92   \n",
       "Emily              94            92            99          91       97   \n",
       "Eva                76            84            85          92       84   \n",
       "\n",
       "         Final Grade  \n",
       "Paul            82.9  \n",
       "Lindsay         92.1  \n",
       "Ivan            85.7  \n",
       "Emily           94.0  \n",
       "Eva             86.5  "
      ]
     },
     "execution_count": 19,
     "metadata": {},
     "output_type": "execute_result"
    }
   ],
   "source": [
    "stulist = ['Paul','Lindsay','Ivan','Emily','Eva']\n",
    "marks = {'Assignment 1':pd.Series([72,85,87,94,76],index = stulist),'Assignment 2':pd.Series([82,89,92,92,84],index = stulist), 'Assignment 3':pd.Series([81,94,90,99,85],index = stulist), 'Midterm':pd.Series([86,95,92,97,84],index = stulist), \n",
    "'Final Exam':pd.Series([84,92,78,91,92],index = stulist)}\n",
    "\n",
    "grades = pd.DataFrame(marks)\n",
    "\n",
    "#30% for Assignments, 30% for the Midterm, and 40% for the Final Exam.\n",
    "grades['Final Grade'] = 0.1 * marks['Assignment 1'] + 0.1 * marks['Assignment 2'] + 0.1 * marks['Assignment 3'] + 0.3 * marks['Midterm'] + 0.4 * marks['Final Exam']\n",
    "\n",
    "grades"
   ]
  },
  {
   "cell_type": "markdown",
   "metadata": {},
   "source": [
    "Exercise 4. Write a function which takes in an arbitrary list of numbers, and returns the mean without using np.mean(listname)."
   ]
  },
  {
   "cell_type": "code",
   "execution_count": 21,
   "metadata": {},
   "outputs": [
    {
     "name": "stdout",
     "output_type": "stream",
     "text": [
      "30.692307692307693\n"
     ]
    }
   ],
   "source": [
    "test_list = [25, 54, 27, 54, 23, 47, 23, 4 , 27, 36, 26, 12, 41]\n",
    "\n",
    "total = 0\n",
    "for n in test_list:\n",
    "    total += int(n)\n",
    "    mean = total/len(test_list)   # or use sum(test_list)\n",
    "print(mean)"
   ]
  },
  {
   "cell_type": "markdown",
   "metadata": {},
   "source": [
    "Exercise 5. \n",
    "\n",
    "A. Create a list using a comprehension which contains all of the odd numbers from $-10$ to $10$ (inclusive).\n",
    "\n",
    "B. Use a list comprehension to determine how many times letters from the first half of the alphabet appear in the following sentence:<br>\n",
    "    'To construct the notion of a Lie group in Dirac geometry, the Courant algebroids A must themselves carry a multiplicative structure.'\n",
    "\n",
    "\n",
    "C. Write a list comprehension whose elements are lists `[x,y]`, where `x` can take on the values `[1,2,3,4]`, where `y` can take on values `[2,4,6]`, and where the `x` and `y` values are not equal. "
   ]
  },
  {
   "cell_type": "code",
   "execution_count": 23,
   "metadata": {},
   "outputs": [
    {
     "name": "stdout",
     "output_type": "stream",
     "text": [
      "72\n",
      "[[1, 2], [1, 4], [1, 6], [2, 4], [2, 6], [3, 2], [3, 4], [3, 6], [4, 2], [4, 6]]\n"
     ]
    }
   ],
   "source": [
    "# Exercise 5A\n",
    " \n",
    "list_of_odds = [ x for x in range(-10,11) if x % 2 != 0]\n",
    "list_of_odds\n",
    " \n",
    "# Exercise 5B\n",
    " \n",
    "firsthalf_alphabet = ['A','a','B','b','C','c','D','d','E','e','F','f','G','g','H','h','I','i','J','j','K','k','L','l','M','m']\n",
    " \n",
    "sentence = 'To construct the notion of a Lie group in Dirac geometry, extending the definition of Poisson Lie groups, the Courant algebroids A must themselves carry a multiplicative structure.'\n",
    " \n",
    "Count_of_alphabets = [x for x in sentence if x in firsthalf_alphabet]\n",
    "len(Count_of_alphabets)\n",
    " \n",
    "count = 0\n",
    "for x in sentence:\n",
    "    if x in firsthalf_alphabet:\n",
    "        count += 1\n",
    "print (count)\n",
    " \n",
    "# Exercise 5C\n",
    " \n",
    "l = [[x,y] for x in [1,2,3,4] for y in [2,4,6] if x != y ]\n",
    "print(l)"
   ]
  },
  {
   "cell_type": "markdown",
   "metadata": {},
   "source": [
    "Exercise 6. Write a list comprehension that gives us the transpose of a matrix."
   ]
  },
  {
   "cell_type": "code",
   "execution_count": 27,
   "metadata": {},
   "outputs": [
    {
     "data": {
      "text/plain": [
       "[[4, 3], [1, 0], [2, 1]]"
      ]
     },
     "execution_count": 27,
     "metadata": {},
     "output_type": "execute_result"
    }
   ],
   "source": [
    "list1 = [[1,2],[0,1], [3,4]]\n",
    " \n",
    "list2 = [ x[::-1] for x in list1]\n",
    "list2[::-1]"
   ]
  },
  {
   "cell_type": "markdown",
   "metadata": {},
   "source": [
    "Exercise 7. Write a function which sorts this list of strings into chronological order."
   ]
  },
  {
   "cell_type": "code",
   "execution_count": 25,
   "metadata": {},
   "outputs": [
    {
     "name": "stdout",
     "output_type": "stream",
     "text": [
      "['ESU14', 'ESZ14', 'ESH15', 'ETM15', 'EUS15']\n"
     ]
    }
   ],
   "source": [
    "contracts = ['ETM15','ESZ14','EUS15','ESH15','ESU14']\n",
    " \n",
    "def chronological_order(listname):\n",
    "    emptylist = []\n",
    "    for x in listname:\n",
    "        backwards = (x[::-1])\n",
    "        emptylist.append(backwards)\n",
    "        reveresed = sorted(emptylist)\n",
    " \n",
    "    emptylist2 = []\n",
    "    for i in reveresed:\n",
    "        backwards2 = (i[::-1])\n",
    "        emptylist2.append(backwards2)  \n",
    "    print(emptylist2)\n",
    " \n",
    "chronological_order(contracts)"
   ]
  }
 ],
 "metadata": {
  "kernelspec": {
   "display_name": "Python 3",
   "language": "python",
   "name": "python3"
  },
  "language_info": {
   "codemirror_mode": {
    "name": "ipython",
    "version": 3
   },
   "file_extension": ".py",
   "mimetype": "text/x-python",
   "name": "python",
   "nbconvert_exporter": "python",
   "pygments_lexer": "ipython3",
   "version": "3.6.2"
  }
 },
 "nbformat": 4,
 "nbformat_minor": 2
}
