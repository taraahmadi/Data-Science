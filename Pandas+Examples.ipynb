{
 "cells": [
  {
   "cell_type": "markdown",
   "metadata": {},
   "source": [
    "## Pandas :"
   ]
  },
  {
   "cell_type": "code",
   "execution_count": 3,
   "metadata": {
    "collapsed": true
   },
   "outputs": [],
   "source": [
    "import numpy as np\n",
    "import pandas as pd"
   ]
  },
  {
   "cell_type": "markdown",
   "metadata": {},
   "source": [
    "Exercise 1. For a given dataframe: \n",
    "    A. Add a new column\n",
    "    B. Redefine a column\n",
    "    C. Add a new row\n",
    "    D. Redefine a row"
   ]
  },
  {
   "cell_type": "code",
   "execution_count": 4,
   "metadata": {},
   "outputs": [
    {
     "data": {
      "text/html": [
       "<div>\n",
       "<style>\n",
       "    .dataframe thead tr:only-child th {\n",
       "        text-align: right;\n",
       "    }\n",
       "\n",
       "    .dataframe thead th {\n",
       "        text-align: left;\n",
       "    }\n",
       "\n",
       "    .dataframe tbody tr th {\n",
       "        vertical-align: top;\n",
       "    }\n",
       "</style>\n",
       "<table border=\"1\" class=\"dataframe\">\n",
       "  <thead>\n",
       "    <tr style=\"text-align: right;\">\n",
       "      <th></th>\n",
       "      <th>First</th>\n",
       "      <th>Second</th>\n",
       "      <th>Third</th>\n",
       "      <th>Fourth</th>\n",
       "      <th>Fifth</th>\n",
       "      <th>Sixth</th>\n",
       "    </tr>\n",
       "  </thead>\n",
       "  <tbody>\n",
       "    <tr>\n",
       "      <th>r</th>\n",
       "      <td>54</td>\n",
       "      <td>185</td>\n",
       "      <td>166</td>\n",
       "      <td>194</td>\n",
       "      <td>182</td>\n",
       "      <td>364</td>\n",
       "    </tr>\n",
       "    <tr>\n",
       "      <th>s</th>\n",
       "      <td>95</td>\n",
       "      <td>179</td>\n",
       "      <td>11</td>\n",
       "      <td>168</td>\n",
       "      <td>0</td>\n",
       "      <td>0</td>\n",
       "    </tr>\n",
       "    <tr>\n",
       "      <th>t</th>\n",
       "      <td>24</td>\n",
       "      <td>8</td>\n",
       "      <td>140</td>\n",
       "      <td>155</td>\n",
       "      <td>144</td>\n",
       "      <td>288</td>\n",
       "    </tr>\n",
       "    <tr>\n",
       "      <th>u</th>\n",
       "      <td>0</td>\n",
       "      <td>1</td>\n",
       "      <td>-1</td>\n",
       "      <td>2</td>\n",
       "      <td>-2</td>\n",
       "      <td>3</td>\n",
       "    </tr>\n",
       "    <tr>\n",
       "      <th>v</th>\n",
       "      <td>312</td>\n",
       "      <td>31</td>\n",
       "      <td>245</td>\n",
       "      <td>102</td>\n",
       "      <td>172</td>\n",
       "      <td>344</td>\n",
       "    </tr>\n",
       "  </tbody>\n",
       "</table>\n",
       "</div>"
      ],
      "text/plain": [
       "   First  Second  Third  Fourth  Fifth  Sixth\n",
       "r     54     185    166     194    182    364\n",
       "s     95     179     11     168      0      0\n",
       "t     24       8    140     155    144    288\n",
       "u      0       1     -1       2     -2      3\n",
       "v    312      31    245     102    172    344"
      ]
     },
     "execution_count": 4,
     "metadata": {},
     "output_type": "execute_result"
    }
   ],
   "source": [
    "df1 = pd.DataFrame(np.random.randint(0,200, size = (20 , 5)) , columns = ['First','Second','Third','Fourth','Fifth'] \n",
    "                  , index =list('abcdefghijklmnopqrst'))\n",
    "\n",
    "\n",
    "# How to add new columns \n",
    "\n",
    "df1['Sixth'] = range(0,100,5)\n",
    "\n",
    "# How to redefine columns\n",
    "\n",
    "df1['Sixth'] = df1['Fifth'] * 2\n",
    "\n",
    "# How would we add a new row\n",
    "\n",
    "df1.loc['u'] = [0,1,-1,2,-2,3]\n",
    "\n",
    "# How to redefine rows  \n",
    "\n",
    "df1.loc['v'] = df1.loc['b'] + df1.loc['d']\n",
    "\n",
    "df1.tail()"
   ]
  },
  {
   "cell_type": "markdown",
   "metadata": {},
   "source": [
    "Exercise 2. For a given dataframe\n",
    "    \n",
    "   A. Create a new column called 'Value', which is Price * Qty, but is negative if the transaction is a buy, and positive if the transaction is a sell.  \n",
    "    \n",
    "   B. How would we determine the money we made on these transactions?"
   ]
  },
  {
   "cell_type": "code",
   "execution_count": 6,
   "metadata": {},
   "outputs": [
    {
     "data": {
      "text/plain": [
       "-9.75"
      ]
     },
     "execution_count": 6,
     "metadata": {},
     "output_type": "execute_result"
    }
   ],
   "source": [
    "pc = pd.DataFrame({'Buy_or_Sell':['B','S','B','S','S','B'],\n",
    "                   'Price':[2204.0,2275.5,2250.75,2230.0,2280.75,2282.25],'Qty':[1,2,1,2,1,3]})\n",
    "\n",
    "pc['Value'] = (pc['Price'] * pc['Qty']).where(pc['Buy_or_Sell'] == 'S', pc['Price'] * - pc['Qty'])\n",
    "\n",
    "pc['Value'].sum()"
   ]
  },
  {
   "cell_type": "markdown",
   "metadata": {},
   "source": [
    "Exercise 3. Import the file `customer_data.csv` and answer the following questions.\n",
    "   1. The marketing department would like to target a campaign to medium sized (100-999 Employees) customers who are in either Education or Food Services, and who currently spend less than $\\$5000$ total per year on all services.     2. Create a boolean column called INCLUDE that indicates whether the customer on that row should be included in the campaign.\n",
    "   3. How many customers are in the campaign?\n",
    "   4. Pandas has a function called crosstab which prints cross tabulations of categorical variables. Use the crosstab function to determine how many customers in each industry and province are included in the campaign.\n",
    "   5. Create a file called customerids.csv that contains only a list of CUSTOMER_IDs to be included in the campaign.\n"
   ]
  },
  {
   "cell_type": "code",
   "execution_count": 8,
   "metadata": {},
   "outputs": [
    {
     "ename": "NameError",
     "evalue": "name 'ci' is not defined",
     "output_type": "error",
     "traceback": [
      "\u001b[0;31m---------------------------------------------------------------------------\u001b[0m",
      "\u001b[0;31mNameError\u001b[0m                                 Traceback (most recent call last)",
      "\u001b[0;32m<ipython-input-8-78d89268fa6e>\u001b[0m in \u001b[0;36m<module>\u001b[0;34m()\u001b[0m\n\u001b[1;32m      1\u001b[0m \u001b[0;31m#ci = pd.read_csv(\"customer_info.csv\")\u001b[0m\u001b[0;34m\u001b[0m\u001b[0;34m\u001b[0m\u001b[0m\n\u001b[1;32m      2\u001b[0m \u001b[0;34m\u001b[0m\u001b[0m\n\u001b[0;32m----> 3\u001b[0;31m \u001b[0mci\u001b[0m\u001b[0;34m[\u001b[0m\u001b[0;34m\"INCLUDE\"\u001b[0m\u001b[0;34m]\u001b[0m \u001b[0;34m=\u001b[0m \u001b[0;34m(\u001b[0m\u001b[0mci\u001b[0m\u001b[0;34m[\u001b[0m\u001b[0;34m\"EMP\"\u001b[0m\u001b[0;34m]\u001b[0m \u001b[0;34m>=\u001b[0m \u001b[0;36m100\u001b[0m\u001b[0;34m)\u001b[0m \u001b[0;34m&\u001b[0m \u001b[0;34m(\u001b[0m\u001b[0mci\u001b[0m\u001b[0;34m[\u001b[0m\u001b[0;34m\"EMP\"\u001b[0m\u001b[0;34m]\u001b[0m \u001b[0;34m<\u001b[0m \u001b[0;36m1000\u001b[0m\u001b[0;34m)\u001b[0m \u001b[0;34m&\u001b[0m \u001b[0;34m(\u001b[0m\u001b[0mci\u001b[0m\u001b[0;34m[\u001b[0m\u001b[0;34m\"INDUSTRY\"\u001b[0m\u001b[0;34m]\u001b[0m\u001b[0;34m.\u001b[0m\u001b[0misin\u001b[0m\u001b[0;34m(\u001b[0m\u001b[0;34m[\u001b[0m\u001b[0;34m\"Food Services\"\u001b[0m\u001b[0;34m,\u001b[0m \u001b[0;34m\"Education\"\u001b[0m\u001b[0;34m]\u001b[0m\u001b[0;34m)\u001b[0m\u001b[0;34m)\u001b[0m \u001b[0;34m&\u001b[0m \u001b[0;34m(\u001b[0m\u001b[0mci\u001b[0m\u001b[0;34m[\u001b[0m\u001b[0;34m\"MOBILITY\"\u001b[0m\u001b[0;34m]\u001b[0m \u001b[0;34m+\u001b[0m \u001b[0mci\u001b[0m\u001b[0;34m[\u001b[0m\u001b[0;34m\"INTERNET\"\u001b[0m\u001b[0;34m]\u001b[0m \u001b[0;34m<=\u001b[0m \u001b[0;36m5000\u001b[0m\u001b[0;34m)\u001b[0m\u001b[0;34m\u001b[0m\u001b[0m\n\u001b[0m\u001b[1;32m      4\u001b[0m \u001b[0mci\u001b[0m\u001b[0;34m.\u001b[0m\u001b[0mhead\u001b[0m\u001b[0;34m(\u001b[0m\u001b[0;34m)\u001b[0m\u001b[0;34m\u001b[0m\u001b[0m\n\u001b[1;32m      5\u001b[0m \u001b[0;34m\u001b[0m\u001b[0m\n",
      "\u001b[0;31mNameError\u001b[0m: name 'ci' is not defined"
     ]
    }
   ],
   "source": [
    "ci = pd.read_csv(\"customer_info.csv\")\n",
    "\n",
    "ci[\"INCLUDE\"] = (ci[\"EMP\"] >= 100) & (ci[\"EMP\"] < 1000) & (ci[\"INDUSTRY\"].isin([\"Food Services\", \"Education\"])) & (ci[\"MOBILITY\"] + ci[\"INTERNET\"] <= 5000)\n",
    "ci.head()\n",
    "\n",
    "# in is for lists .isin() is for series and the difference is because of the vectorization\n",
    "# the name of | is pipe\n",
    "\n",
    "len(ci[ci[\"INCLUDE\"] == True])\n",
    "\n",
    "# We actually don't need to write True by default it will bring back True  \n",
    "# or\n",
    "\n",
    "sum(ci['INCLUDE'])\n",
    "\n",
    "pd.crosstab(ci[ci[\"INCLUDE\"]][\"INDUSTRY\"], ci[ci[\"INCLUDE\"]][\"PROVINCE\"])\n",
    "\n",
    "ci[ci[\"INCLUDE\"]][\"CUSTOMER_ID\"].to_csv(\"customerids.csv\", index=False) #we write the index = False to exclude the indexes"
   ]
  }
 ],
 "metadata": {
  "kernelspec": {
   "display_name": "Python 3",
   "language": "python",
   "name": "python3"
  },
  "language_info": {
   "codemirror_mode": {
    "name": "ipython",
    "version": 3
   },
   "file_extension": ".py",
   "mimetype": "text/x-python",
   "name": "python",
   "nbconvert_exporter": "python",
   "pygments_lexer": "ipython3",
   "version": "3.6.2"
  }
 },
 "nbformat": 4,
 "nbformat_minor": 2
}
